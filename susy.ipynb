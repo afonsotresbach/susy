{
 "cells": [
  {
   "cell_type": "markdown",
   "metadata": {},
   "source": [
    "# Seleção de features do dataset SUSY\n",
    "\n",
    "O dataset contém 5 milhões de amostras de simulações. A classe é indicada na primeira coluna (0 ou 1); as 8 colunas seguintes são features obtidas originalmente das simulações, e as 10 seguintes são features computadas a partir das anteriores. Os métodos de seleção de feature a seguir foram testados num subconjunto de 10.000 linhas do dataset."
   ]
  },
  {
   "cell_type": "code",
   "execution_count": 1,
   "metadata": {},
   "outputs": [],
   "source": [
    "import pandas as pd\n",
    "import matplotlib.pyplot as plt\n",
    "\n",
    "names = [\"class\", \"lepton 1 pT\", \"lepton 1 eta\", \"lepton 1 phi\", \"lepton 2 pT\", \"lepton 2 eta\", \n",
    "         \"lepton 2 phi\", \"missing energy magnitude\", \"missing energy phi\", \"MET_rel\",\n",
    "         \"axial MET\", \"M_R\", \"M_TR_2\", \"R\", \"MT2\", \"S_R\", \"M_Delta_R\", \"dPhi_r_b\", \"cos(theta_r1)\"\n",
    "        ]\n",
    "data = pd.read_csv(\"SUSY.csv\", names=names, nrows=10000)\n",
    "\n",
    "array = data.values\n",
    "X = array[:, 1:]\n",
    "Y = array[:, 0]"
   ]
  },
  {
   "cell_type": "markdown",
   "metadata": {},
   "source": [
    "## Matriz de correlação\n",
    "\n",
    "[pandas.DataFrame.corr](https://pandas.pydata.org/pandas-docs/stable/generated/pandas.DataFrame.corr.html)\n",
    "\n",
    "Como indicado pelo nome, comporta a correlação entre os dados. No geral, é preciso indicar um método de cálculo do coeficiente( pearson - Coeficiente de correlação padrão, kendall, spearman), em caso de omissão, como abaixo é utilizado o método padrão. Na figura abaixo, quanto mais próximo do amarelo for a região, mais correlacionadas são as colunas.\n",
    "\n",
    "Nesse caso, as features mais correlacionadas são axial MET e MT2, lepton 1 pT e axial MET, MT2 e lepton 1 pT, axial MET e lepton 2 pT, S_R e R, ..."
   ]
  },
  {
   "cell_type": "code",
   "execution_count": 4,
   "metadata": {},
   "outputs": [
    {
     "data": {
      "image/png": "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\n",
      "text/plain": [
       "<matplotlib.image.AxesImage at 0x1d9222cdd68>"
      ]
     },
     "execution_count": 4,
     "metadata": {},
     "output_type": "execute_result"
    },
    {
     "data": {
      "image/png": "iVBORw0KGgoAAAANSUhEUgAAAQQAAAECCAYAAAAYUakXAAAABHNCSVQICAgIfAhkiAAAAAlwSFlzAAALEgAACxIB0t1+/AAAADl0RVh0U29mdHdhcmUAbWF0cGxvdGxpYiB2ZXJzaW9uIDIuMS4yLCBodHRwOi8vbWF0cGxvdGxpYi5vcmcvNQv5yAAAEC1JREFUeJzt3XuQ3fVZx/HPs5vd3JOS0NxkuQQIGJ0SyIoyKAYtCO0fpLWV0j+IUiYVilY6o4KVlkrBMtKiUIkFmoHRKaC0WOpAARFDp0LbcCkNCiRCIAtpblz2FnI5+/gHh2disst+n90952x236+ZzO6ePPme53fOySe/c/L9fn/m7gIASWpqdAMARg8CAUAgEAAEAgFAIBAABAIBQGhoIJjZWWb2vJltMLPLGtlLrZnZRjP7mZk9bWZrG93PSDKz1Wa21czW7XPbLDN7yMzWV78e0sgeR8oAx3qlmb1afW6fNrMPNbLH4WhYIJhZs6S/l3S2pMWSzjOzxY3qp05Od/cl7t7e6EZG2G2SztrvtsskPezux0p6uPrzWHCbDjxWSbq++twucff76tzTiGnkGcLJkja4+4vuvlvSnZLOaWA/GCJ3f1TS6/vdfI6k26vf3y5peV2bqpEBjnXMaGQg/IKkTfv83FG9baxySQ+a2RNmtrLRzdTBXHffLEnVr3Ma3E+tXWJmz1TfUhy0b48aGQjWz21jeR71qe5+kt55i/QZMzut0Q1hxKySdLSkJZI2S/pqY9sZukYGQoektn1+PkzSaw3qpebc/bXq162S7tE7b5nGsi1mNl+Sql+3NrifmnH3Le5ecfc+SbfoIH5uGxkIP5F0rJkdZWatkj4h6d4G9lMzZjbVzKa/+72kMyWte+8/ddC7V9KK6vcrJH23gb3U1LvBV/URHcTP7YRG3bG77zWzSyQ9IKlZ0mp3f7ZR/dTYXEn3mJn0zmP+LXf/fmNbGjlmdoekZZIONbMOSV+U9BVJ/2xmn5L0iqSPN67DkTPAsS4zsyV65y3vRkmfbliDw2QsfwbwLmYqAggEAoBAIAAIBAKAQCAACKMiEMbJVF5J4+dYx8txSmPrWEdFIEgaMw9ogfFyrOPlOKUxdKyjJRAAjAJ1nZh06KxmP7Kt5YDbt+2o6P2zmw+4fV337NT4TV21y7dKa66+eXf/t+/d2aMJk6cOqxefUUnVW9eBj+17qUzKvSaadh+4Tq3S26PmKf0fZ1/isbSW3LGqN3eslnz59x348lWlu1vN06YN+w6a3+5vvd/AKpPKa/fueF2V7p5B76CuU5ePbGvRjx9oG7ywatGaFYMX7WPaminFtdkXQudRufrpG3P1/a79HMCuD3amhm59ZGaq/s3Fe1P10zbmXkY9h5f/JZ80ryc1tp6akSpv3pMbvuewXED5hPIX2sz/yT2OnceV97L52r8rqhvWP6njaQs0YDwYciCM0y3QgDFtOGcIbIEGjDHDCYTxtgUaMOYNJxCKtkAzs5VmttbM1m7bkfzEGEBdDScQirZAc/eb3b3d3dv7+69FAKPHcAJh3GyBBowXQ56HMM62QAPGhWFNTKpeoeagvUoNgP+vrjMV13XPTs0+fOE3bx+8aB8nrbmouNaTb5aWn/l4qv7fv3lK7g4SMyd37epn/ux7mLg3Ny2z9Y3cZz0tnbnxbzn71uLatb0LU2Pfv3pZqr6rLfdX4IoL70zVX3b/ecW10ztyH7rvnFv+IrbCyacsbgIQCAQAgUAAEAgEAIFAABAIBACBQAAQCAQAgUAAEAgEAIFAABDqug37lDltvuhjl9Zs/Ce/sKq49qSrytc9SJL15XrpOj23W/D0R8q3Zvfcbt015025hpoyayuSx5p9bLK7b2fWnGR5DbcLeeFfrlfv1k2DPjqcIQAIBAKAQCAACAQCgEAgAAgEAoBAIAAIBAKAQCAACAQCgFDXbdil3FTR7FbpmenIT15RPs1Zkk68+uJU/bQ15VORJWn2M73FtTs+MCU19vRXCvfgruo8IveysOT0974J5fOLs2NnpxZnehnK+BnWV79lBAPhDAFAIBAABAIBQCAQAAQCAUAgEAAEAgFAIBAABAIBQCAQAAQCAUCo61qGSqvUeVR5/fIzH0+N/x/f+LXi2uzahKc+f1OqPjt+Zn1Cz4Lc/Hu33NPszbnx90xLlevyC+4qrr1m3VmpsQ//UiVV37VoZqr+oqvvTtX/zdfPTVTnHvdZz+0qrm1+u2ydBGcIAAKBACAQCAACgQAgEAgAAoEAIBAIAAKBACAQCAACgQAgEAgAgnl23/thmDKnzRd97NLi+uyc+p7f6C6uzV43wZtyvWTXPpz0V+XXlMj20lSp3XUTJMmS43tm/OTLM3ttg+xjmVxukOu/hsf6wt3Xq3frpkG75wwBQCAQAIRhLX82s42SuiRVJO119/aRaApAY4zEfginu/v2ERgHQIPxlgFAGG4guKQHzewJM1s5Eg0BaJzhvmU41d1fM7M5kh4ys+fc/dF9C6pBsVKSWqYdMsy7A1BLwzpDcPfXql+3SrpH0sn91Nzs7u3u3j5hcu7//gHU15ADwcymmtn0d7+XdKakdSPVGID6G85bhrmS7jGzd8f5lrt/f0S6AtAQQw4Ed39R0gkj2AuABqvrdRkk5eaCJ+d2T3+k/DOK2c/0psbOXDdByq1NkKQnv7CquPbEL+eu+WB7U+Wypuyk+mR5cu1DhltyHUZy7UP2NZle+5CQXetTgnkIAAKBACAQCAACgQAgEAgAAoEAIBAIAAKBACAQCAACgQAgEAgAQl3XMviMinZ9sLO4fteultT4Mx6dXFybXZvQsyA3b3zyllR5an3CU3+Zu+bDiVfn1j4sX/mfqfp/fOi0VH3fpPIFARectiY19p0blqbqdz8/I1W/Z3ZuYcjSX3ypuPbpV9pSY09oKe+l776+ojrOEAAEAgFAIBAABAIBQCAQAAQCAUAgEAAEAgFAIBAABAIBQDD32m2Jvb8pc9v82HM/V1xve2vX24yXc1NQO4/IzfK27E7miXYqk3LTqJ/6fG6q80lX5baQr+XW596U3eM9WV7jbdhT/Wd3VU/Ur7/ra+rdsmnQP8EZAoBAIAAIBAKAQCAACAQCgEAgAAgEAoBAIAAIBAKAQCAACAQCgFDXbdgrk1xvLi6ftN/6RnNq/KmbymuzaxO8OTfRPLsKw5rK/0R2m/Ts2oQnr1iVqj/1T/4wVf/WwvJ/h47/8AupsbO275yWqt/8o/mp+os+el9x7dd/uiw1dqW7/DIFlXvLXl+cIQAIBAKAQCAACAQCgEAgAAgEAoBAIAAIBAKAQCAACAQCgEAgAAh1vS7D5PltvnBF+XUZWjpzvWX2wLfkce+ekVvL0PpW9sIM5aWdR+fGnv5iLvenbO9L1f/wb/8hVX/CtRcX187/YWdq7OYdXan6vS+9nKp/Y8UpqfpDf7KjuHb7r8xOjf2+DTuLa3/89E3q7HqV6zIAKEcgAAiDBoKZrTazrWa2bp/bZpnZQ2a2vvr1kNq2CaAeSs4QbpN01n63XSbpYXc/VtLD1Z8BHOQGDQR3f1TS6/vdfI6k26vf3y5p+Qj3BaABhvoZwlx33yxJ1a9zBio0s5VmttbM1lZ6e4Z4dwDqoeYfKrr7ze7e7u7tzVOm1vruAAzDUANhi5nNl6Tq160j1xKARhlqINwraUX1+xWSvjsy7QBopJL/drxD0mOSjjOzDjP7lKSvSDrDzNZLOqP6M4CD3KB7kbv7eQP81m+PcC8AGqyu12Xoa5V6Dq8U199y9q2p8f/s2pXlvUzIrU24/IK7UvXX3Xhuqt4q5esT+ibl1jJYX64+c90EKbc2QZJ++uc3FdcuX/87qbH3/MHkVP2b5+fWJvzgmhtS9b/8T39cXDv7Z7nnqWfBxOLavmfLnlOmLgMIBAKAQCAACAQCgEAgAAgEAoBAIAAIBAKAQCAACAQCgFDXqcvWUtGkeeWbpKztXZi8g0Rpchv2a9btv4vce2ut4e72F5y2JlX/7f/+rVT98R9+IVXffem8VH1mOvK/HvtAauxjvvz7qXr526nySzqWpeqXn/F4ce13Jv5qauypR5ZvUV95omzJAGcIAAKBACAQCAACgQAgEAgAAoEAIBAIAAKBACAQCAACgQAgEAgAQl3XMqi3WXpqRnH5/auXpYb3wzPFqaF1+JfKt4+XpC2n5u7ArXwhxp0blqbGbsntOJ/WvKMrVZ/ZKj27NmHDsttS9R/dcEaq/pXPHp2qf/WvtxfXtizIXQx56byO4tqft+wuquMMAUAgEAAEAgFAIBAABAIBQCAQAAQCAUAgEAAEAgFAIBAABAIBQKjvdRlcat5TXt/VlmvPEssH+ibkJvh3LZqZqvem3PjWV9787ufL14NIUmtibEnavnNaqn7iSxtT9W+ef0p5cfK6Cdm1Cd855qFU/dIPXJSq/9MF3yuuveZ756XGXrNlcXFtV0/ZcXKGACAQCAACgQAgEAgAAoEAIBAIAAKBACAQCAACgQAgEAgAAoEAINR1LUNfi9RzWPn1Da648M7U+Nde98ny4uR1GS66+u5U/XU3npu7g0Q/e2bvzY39cu5p3vyj+an6mSty9T+45obi2ks6lqXGzl43Ibs24YkrV6XqF37708W1M8sunRDmPla+XmZb4SUfOEMAEAYNBDNbbWZbzWzdPrddaWavmtnT1V8fqm2bAOqh5AzhNkln9XP79e6+pPrrvpFtC0AjDBoI7v6opNfr0AuABhvOZwiXmNkz1bcUh4xYRwAaZqiBsErS0ZKWSNos6asDFZrZSjNba2ZrK93dQ7w7APUwpEBw9y3uXnH3Pkm3SDr5PWpvdvd2d29vnpbbmgtAfQ0pEMxs3/94/oikdQPVAjh4DDpjxczukLRM0qFm1iHpi5KWmdkSvTOdZqOk8tkXAEatQQPB3fvbCvabNegFQIMxUxFAMPfkpP5hmHjEYT7v8s8W19ueXF4d8mz53O7sdRm8OVUu68vWlz8PCz+5PjX2/96xKFW/4jO5eWYPfnzAz5T7tX7F7OLa5Wc8nhr72bdy6yrOX/BYqv4vHvy9VP2Lv/uN4trjb82tq9g1v3xNy8+vukG7NnYM+qLnDAFAIBAABAIBQCAQAAQCAUAgEAAEAgFAIBAABAIBQCAQAIS6Tl2eMrfNj/nE54rrp3eUb9kuST3zEvmWPGxvyk11zrLE89D562+nxp7+X5NT9V2n9qbqZz2QG7+pUn6s29pTQ6tlQeF+41Wtj09P1Tcnt0rfOaf8WJ+7MLfF+y/deHFx7cbVX9POzZuYugygHIEAIBAIAAKBACAQCAACgQAgEAgAAoEAIBAIAAKBACAQCADCoBdqGUmVSVLnceXrE3bOzeXV1FezHZWb9dyuVP0bi1pT9d5cvlZiQkv59tuSpOQyjEp3S6r+fRt2pup7Fkwsrp16ZGdq7KXzOlL1a7YsTtXPfSz3YL55QvnrPbM2QZKe/aObimtP/rdtRXWcIQAIBAKAQCAACAQCgEAgAAgEAoBAIAAIBAKAQCAACAQCgEAgAAh1vS6DmW2T9HI/v3WopO11a6SxxsuxjpfjlA6OYz3C3d8/WFFdA2HAJszWunvykhwHp/FyrOPlOKWxday8ZQAQCAQAYbQEws2NbqCOxsuxjpfjlMbQsY6KzxAAjA6j5QwBwChAIAAIBAKAQCAACAQCgPB/cnr2F5YL80cAAAAASUVORK5CYII=\n",
      "text/plain": [
       "<matplotlib.figure.Figure at 0x1d91eab1320>"
      ]
     },
     "metadata": {},
     "output_type": "display_data"
    }
   ],
   "source": [
    "plt.matshow(data.corr())"
   ]
  },
  {
   "cell_type": "markdown",
   "metadata": {},
   "source": [
    "## SelectKBest\n",
    "\n",
    "[sklearn.feature_selection.SelectKBest](https://scikit-learn.org/stable/modules/generated/sklearn.feature_selection.SelectKBest.html)\n",
    "\n",
    "Destina-se à seleção de features de acordo às maiores k pontuações. Utiliza além disso uma função para pontuação que para problemas de classificação é a f_classif. O retorno é um par de matrizes com scores e valores ou único array de scores.\n",
    "\n",
    "Nesse caso, obteve-se M_Delta_R com maior score, seguido por missing energy phi, cos(theta_r1) e M_R "
   ]
  },
  {
   "cell_type": "code",
   "execution_count": 3,
   "metadata": {},
   "outputs": [
    {
     "name": "stdout",
     "output_type": "stream",
     "text": [
      "[[0.973 0.568 0.89  0.994]\n",
      " [1.668 3.475 0.568 0.205]\n",
      " [0.445 1.22  0.942 1.562]\n",
      " [0.381 2.033 1.015 1.715]\n",
      " [1.31  1.088 0.968 0.043]\n",
      " [0.456 0.323 0.416 0.346]\n",
      " [0.438 0.216 0.371 0.516]\n",
      " [0.572 0.117 0.29  0.268]]\n"
     ]
    }
   ],
   "source": [
    "from sklearn.feature_selection import SelectKBest, f_classif\n",
    "import numpy\n",
    "\n",
    "# feature extraction\n",
    "test = SelectKBest(score_func=f_classif, k=4)\n",
    "fit = test.fit(X, Y)\n",
    "\n",
    "# summarize scores\n",
    "numpy.set_printoptions(precision=3)\n",
    "\n",
    "features = fit.transform(X)\n",
    "\n",
    "# summarize selected features\n",
    "print(features[0:8,:])"
   ]
  },
  {
   "cell_type": "markdown",
   "metadata": {},
   "source": [
    "## Recursive Feature Elimination\n",
    "[sklearn.feature_selection.RFE](http://scikit-learn.org/stable/modules/generated/sklearn.feature_selection.RFE)\n",
    "\n",
    "A Recursive Feature Elimination (ou RFE) consiste na remoção de maneira recursiva de atributos e construção de modelo com os que permanecem. De maneira geral, utiliza a precisão de um modelo para identificar quais atributos são mais relevantes para a predição. Considerando os 3 valores solicitados temos : class, lepton 2 phi e S_R.\n",
    "\n",
   ]
  },
  {
   "cell_type": "code",
   "execution_count": 19,
   "metadata": {},
   "outputs": [
    {
     "data": {
      "text/plain": [
       "<Container object of 18 artists>"
      ]
     },
     "execution_count": 19,
     "metadata": {},
     "output_type": "execute_result"
    },
    {
     "data": {
      "image/png": "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\n",
      "text/plain": [
       "<matplotlib.figure.Figure at 0x1d922951f28>"
      ]
     },
     "metadata": {},
     "output_type": "display_data"
    }
   ],
   "source": [
    "from sklearn.feature_selection import RFE\n",
    "from sklearn.linear_model import LogisticRegression\n",
    "\n",
    "# feature extraction\n",
    "model = LogisticRegression()\n",
    "rfe = RFE(model, 8)\n",
    "fit = rfe.fit(X, Y)\n",
    "\n",
    "plt.bar(range(18), fit.ranking_)"
   ]
  },
  {
   "cell_type": "markdown",
   "metadata": {},
   "source": [
    "## Principal Component Analysis\n",
    "\n",
    "[sklearn.decomposition.PCA](http://scikit-learn.org/stable/modules/generated/sklearn.decomposition.PCA.html)\n",
    "\n",
    "Consiste em um procedimento estático que utiliza transformação ortogonal de algébra linear, que converte um conjunto de observações de variáveis que estejam correlacionadas em valores linearmente não correlacionados, chamados de componentes principais. É aplicado para compressão e simplificação de dados, buscando facilitar a a visualização.Entretanto, não é recomendado em casos de dados ruidosos (com falta de registro, etc). Conforme exemplo abaixo, observa-se que os três componentes principais possuem pouca semelhança com os originais.\n"
   ]
  },
  {
   "cell_type": "code",
   "execution_count": 9,
   "metadata": {},
   "outputs": [
    {
     "name": "stdout",
     "output_type": "stream",
     "text": [
      "Explained Variance: [0.214 0.147 0.124 0.116 0.105 0.091 0.059 0.053]\n",
      "[[ 2.265e-01 -1.153e-02 -1.254e-03  1.168e-01  1.444e-02  2.774e-03\n",
      "   4.448e-01  3.807e-03  4.753e-01 -2.154e-01  1.759e-01  3.365e-01\n",
      "   1.660e-01  3.447e-01  2.033e-01  3.503e-01  8.499e-02  5.262e-02]\n",
      " [ 3.361e-01 -1.157e-03 -1.813e-03  3.369e-01  8.485e-03 -1.386e-03\n",
      "   2.158e-01 -2.928e-03 -8.810e-02  5.245e-01  3.503e-01  9.992e-02\n",
      "  -2.090e-01 -3.900e-01  3.144e-01 -1.216e-01 -2.715e-02 -3.488e-02]\n",
      " [-1.307e-03 -7.002e-01 -8.060e-02  4.643e-04 -7.030e-01  6.988e-02\n",
      "   6.718e-03  6.325e-02 -2.630e-03  7.285e-03  7.652e-04  5.541e-04\n",
      "   1.720e-03 -5.764e-04  8.312e-04  2.839e-03 -2.278e-04  1.151e-03]\n",
      " [-3.039e-02  8.791e-02 -7.167e-01 -4.332e-02  8.482e-02  5.662e-01\n",
      "   6.144e-02  3.632e-01  3.866e-02  7.885e-02 -4.101e-02 -1.146e-02\n",
      "   2.041e-02 -1.844e-02 -4.205e-02  3.443e-05  1.660e-02  6.075e-03]\n",
      " [-2.492e-01  1.222e-02  9.822e-02 -2.627e-01 -2.549e-02 -1.107e-01\n",
      "   4.167e-01 -2.646e-03  3.139e-01  6.051e-01 -2.834e-01 -9.109e-02\n",
      "   1.341e-01 -7.007e-02 -2.849e-01  3.758e-02  1.146e-01  2.395e-02]\n",
      " [ 1.154e-02  2.254e-02 -3.360e-02  1.934e-02 -6.676e-04 -5.611e-01\n",
      "  -2.050e-02  8.247e-01 -2.348e-02 -3.686e-02  1.465e-02  7.912e-03\n",
      "  -6.121e-03 -1.444e-04  1.644e-02 -3.499e-03 -2.507e-03  6.205e-04]\n",
      " [ 1.677e-03  1.094e-02  6.845e-01 -2.203e-03  7.919e-03  5.891e-01\n",
      "  -2.178e-03  4.285e-01 -1.404e-02  1.201e-02  3.201e-03  1.532e-03\n",
      "  -2.501e-03  1.264e-02  1.253e-03  8.001e-03 -5.552e-03  1.995e-03]\n",
      " [-2.220e-02 -7.071e-01  9.715e-04 -8.193e-03  7.048e-01 -9.787e-03\n",
      "  -1.401e-02  1.541e-02  3.594e-03  3.436e-02 -1.245e-03 -2.102e-02\n",
      "  -3.943e-03  1.809e-02 -5.500e-03  8.826e-03 -4.498e-03 -6.268e-03]]\n"
     ]
    }
   ],
   "source": [
    "# Feature Extraction with PCA\n",
    "import numpy\n",
    "from sklearn.decomposition import PCA\n",
    "\n",
    "# feature extraction\n",
    "pca = PCA(n_components=8)\n",
    "fit = pca.fit(X)\n",
    "\n",
    "# summarize components\n",
    "print(\"Explained Variance: %s\" % fit.explained_variance_ratio_)\n",
    "print(fit.components_)"
   ]
  },
  {
   "cell_type": "markdown",
   "metadata": {},
   "source": [
    "## Feature Importance\n",
    "\n",
    "[sklearn.ensemble.ExtraTreesClassifier](http://scikit-learn.org/stable/modules/generated/sklearn.ensemble.ExtraTreesClassifier.html)\n",
    "\n",
    "Além dos métodos apresentados anteriormente, é possível utilizar árvore de decisão (Random Forest e Extra Trees) para estimar a importância das features. Abaixo tem um exemplo de aplicação de ExtraTrees, em que se constrói um modelo  e a partir dele é calculada uma importância para cada feature.\n",
    "\n",
    "Nesse caso, pode-se dizer que class, lepton 2 phi e M_R são os três elementos mais importantes.\n"
   ]
  },
  {
   "cell_type": "code",
   "execution_count": 12,
   "metadata": {},
   "outputs": [
    {
     "data": {
      "text/plain": [
       "<Container object of 18 artists>"
      ]
     },
     "execution_count": 12,
     "metadata": {},
     "output_type": "execute_result"
    },
    {
     "data": {
      "image/png": "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\n",
      "text/plain": [
       "<matplotlib.figure.Figure at 0x1d921f603c8>"
      ]
     },
     "metadata": {},
     "output_type": "display_data"
    }
   ],
   "source": [
    "from sklearn.ensemble import ExtraTreesClassifier\n",
    "\n",
    "# feature extraction\n",
    "model = ExtraTreesClassifier()\n",
    "model.fit(X, Y)\n",
    "plt.bar(range(18), model.feature_importances_)"
   ]
  },
  {
   "cell_type": "markdown",
   "metadata": {},
   "source": [
    "## Fontes:\n",
    "* https://scikit-learn.org/stable/modules/feature_selection.html\n",
    "* https://machinelearningmastery.com/an-introduction-to-feature-selection/"
   ]
  }
 ],
 "metadata": {
  "kernelspec": {
   "display_name": "Python 3",
   "language": "python",
   "name": "python3"
  },
  "language_info": {
   "codemirror_mode": {
    "name": "ipython",
    "version": 3
   },
   "file_extension": ".py",
   "mimetype": "text/x-python",
   "name": "python",
   "nbconvert_exporter": "python",
   "pygments_lexer": "ipython3",
   "version": "3.6.4"
  }
 },
 "nbformat": 4,
 "nbformat_minor": 2
}
